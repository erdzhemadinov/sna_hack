{
 "cells": [
  {
   "cell_type": "markdown",
   "metadata": {},
   "source": [
    "## SNA HACKATON 2019 "
   ]
  },
  {
   "cell_type": "code",
   "execution_count": 1,
   "metadata": {},
   "outputs": [
    {
     "name": "stdout",
     "output_type": "stream",
     "text": [
      "Collecting swifter\r\n",
      "  Downloading https://files.pythonhosted.org/packages/1e/5b/aad4d173522a7b5578b7d5c9e8cd2d6c49f3bb9a23895fa16b6283495b2b/swifter-0.287.tar.gz\r\n",
      "Requirement already satisfied: pandas>=0.23.0 in /opt/conda/lib/python3.6/site-packages (from swifter) (0.23.4)\r\n",
      "Requirement already satisfied: psutil in /opt/conda/lib/python3.6/site-packages (from swifter) (5.6.1)\r\n",
      "Requirement already satisfied: dask[complete]>=0.19.0 in /opt/conda/lib/python3.6/site-packages (from swifter) (1.2.0)\r\n",
      "Requirement already satisfied: tqdm>=4.27.0 in /opt/conda/lib/python3.6/site-packages (from swifter) (4.31.1)\r\n",
      "Requirement already satisfied: ipywidgets>=7.0.0 in /opt/conda/lib/python3.6/site-packages (from swifter) (7.2.1)\r\n",
      "Requirement already satisfied: numba in /opt/conda/lib/python3.6/site-packages (from swifter) (0.38.0)\r\n",
      "Requirement already satisfied: pytz>=2011k in /opt/conda/lib/python3.6/site-packages (from pandas>=0.23.0->swifter) (2018.4)\r\n",
      "Requirement already satisfied: python-dateutil>=2.5.0 in /opt/conda/lib/python3.6/site-packages (from pandas>=0.23.0->swifter) (2.6.0)\r\n",
      "Requirement already satisfied: numpy>=1.9.0 in /opt/conda/lib/python3.6/site-packages (from pandas>=0.23.0->swifter) (1.16.3)\r\n",
      "Requirement already satisfied: cloudpickle>=0.2.1; extra == \"complete\" in /opt/conda/lib/python3.6/site-packages (from dask[complete]>=0.19.0->swifter) (0.5.3)\r\n",
      "Requirement already satisfied: toolz>=0.7.3; extra == \"complete\" in /opt/conda/lib/python3.6/site-packages (from dask[complete]>=0.19.0->swifter) (0.9.0)\r\n",
      "Requirement already satisfied: partd>=0.3.8; extra == \"complete\" in /opt/conda/lib/python3.6/site-packages (from dask[complete]>=0.19.0->swifter) (0.3.8)\r\n",
      "Requirement already satisfied: distributed>=1.22; extra == \"complete\" in /opt/conda/lib/python3.6/site-packages (from dask[complete]>=0.19.0->swifter) (1.27.0)\r\n",
      "Requirement already satisfied: ipykernel>=4.5.1 in /opt/conda/lib/python3.6/site-packages (from ipywidgets>=7.0.0->swifter) (4.8.2)\r\n",
      "Requirement already satisfied: traitlets>=4.3.1 in /opt/conda/lib/python3.6/site-packages (from ipywidgets>=7.0.0->swifter) (4.3.2)\r\n",
      "Requirement already satisfied: nbformat>=4.2.0 in /opt/conda/lib/python3.6/site-packages (from ipywidgets>=7.0.0->swifter) (4.4.0)\r\n",
      "Requirement already satisfied: widgetsnbextension~=3.2.0 in /opt/conda/lib/python3.6/site-packages (from ipywidgets>=7.0.0->swifter) (3.2.1)\r\n",
      "Requirement already satisfied: ipython>=4.0.0 in /opt/conda/lib/python3.6/site-packages (from ipywidgets>=7.0.0->swifter) (6.4.0)\r\n",
      "Requirement already satisfied: llvmlite>=0.23.0dev0 in /opt/conda/lib/python3.6/site-packages (from numba->swifter) (0.23.1)\r\n",
      "Requirement already satisfied: six>=1.5 in /opt/conda/lib/python3.6/site-packages (from python-dateutil>=2.5.0->pandas>=0.23.0->swifter) (1.12.0)\r\n",
      "Requirement already satisfied: locket in /opt/conda/lib/python3.6/site-packages (from partd>=0.3.8; extra == \"complete\"->dask[complete]>=0.19.0->swifter) (0.2.0)\r\n",
      "Requirement already satisfied: tblib in /opt/conda/lib/python3.6/site-packages (from distributed>=1.22; extra == \"complete\"->dask[complete]>=0.19.0->swifter) (1.3.2)\r\n",
      "Requirement already satisfied: tornado>=5 in /opt/conda/lib/python3.6/site-packages (from distributed>=1.22; extra == \"complete\"->dask[complete]>=0.19.0->swifter) (5.0.2)\r\n",
      "Requirement already satisfied: pyyaml in /opt/conda/lib/python3.6/site-packages (from distributed>=1.22; extra == \"complete\"->dask[complete]>=0.19.0->swifter) (3.12)\r\n",
      "Requirement already satisfied: zict>=0.1.3 in /opt/conda/lib/python3.6/site-packages (from distributed>=1.22; extra == \"complete\"->dask[complete]>=0.19.0->swifter) (0.1.3)\r\n",
      "Requirement already satisfied: sortedcontainers!=2.0.0,!=2.0.1 in /opt/conda/lib/python3.6/site-packages (from distributed>=1.22; extra == \"complete\"->dask[complete]>=0.19.0->swifter) (1.5.10)\r\n",
      "Requirement already satisfied: click>=6.6 in /opt/conda/lib/python3.6/site-packages (from distributed>=1.22; extra == \"complete\"->dask[complete]>=0.19.0->swifter) (7.0)\r\n",
      "Requirement already satisfied: msgpack in /opt/conda/lib/python3.6/site-packages (from distributed>=1.22; extra == \"complete\"->dask[complete]>=0.19.0->swifter) (0.6.1)\r\n",
      "Requirement already satisfied: jupyter_client in /opt/conda/lib/python3.6/site-packages (from ipykernel>=4.5.1->ipywidgets>=7.0.0->swifter) (5.2.3)\r\n",
      "Requirement already satisfied: ipython_genutils in /opt/conda/lib/python3.6/site-packages (from traitlets>=4.3.1->ipywidgets>=7.0.0->swifter) (0.2.0)\r\n",
      "Requirement already satisfied: decorator in /opt/conda/lib/python3.6/site-packages (from traitlets>=4.3.1->ipywidgets>=7.0.0->swifter) (4.3.0)\r\n",
      "Requirement already satisfied: jsonschema!=2.5.0,>=2.4 in /opt/conda/lib/python3.6/site-packages (from nbformat>=4.2.0->ipywidgets>=7.0.0->swifter) (2.6.0)\r\n",
      "Requirement already satisfied: jupyter_core in /opt/conda/lib/python3.6/site-packages (from nbformat>=4.2.0->ipywidgets>=7.0.0->swifter) (4.4.0)\r\n",
      "Requirement already satisfied: notebook>=4.4.1 in /opt/conda/lib/python3.6/site-packages (from widgetsnbextension~=3.2.0->ipywidgets>=7.0.0->swifter) (5.5.0)\r\n",
      "Requirement already satisfied: jedi>=0.10 in /opt/conda/lib/python3.6/site-packages (from ipython>=4.0.0->ipywidgets>=7.0.0->swifter) (0.12.0)\r\n",
      "Requirement already satisfied: setuptools>=18.5 in /opt/conda/lib/python3.6/site-packages (from ipython>=4.0.0->ipywidgets>=7.0.0->swifter) (39.1.0)\r\n",
      "Requirement already satisfied: simplegeneric>0.8 in /opt/conda/lib/python3.6/site-packages (from ipython>=4.0.0->ipywidgets>=7.0.0->swifter) (0.8.1)\r\n",
      "Requirement already satisfied: prompt-toolkit<2.0.0,>=1.0.15 in /opt/conda/lib/python3.6/site-packages (from ipython>=4.0.0->ipywidgets>=7.0.0->swifter) (1.0.15)\r\n",
      "Requirement already satisfied: backcall in /opt/conda/lib/python3.6/site-packages (from ipython>=4.0.0->ipywidgets>=7.0.0->swifter) (0.1.0)\r\n",
      "Requirement already satisfied: pexpect; sys_platform != \"win32\" in /opt/conda/lib/python3.6/site-packages (from ipython>=4.0.0->ipywidgets>=7.0.0->swifter) (4.5.0)\r\n",
      "Requirement already satisfied: pickleshare in /opt/conda/lib/python3.6/site-packages (from ipython>=4.0.0->ipywidgets>=7.0.0->swifter) (0.7.4)\r\n",
      "Requirement already satisfied: pygments in /opt/conda/lib/python3.6/site-packages (from ipython>=4.0.0->ipywidgets>=7.0.0->swifter) (2.2.0)\r\n",
      "Requirement already satisfied: heapdict in /opt/conda/lib/python3.6/site-packages (from zict>=0.1.3->distributed>=1.22; extra == \"complete\"->dask[complete]>=0.19.0->swifter) (1.0.0)\r\n",
      "Requirement already satisfied: pyzmq>=13 in /opt/conda/lib/python3.6/site-packages (from jupyter_client->ipykernel>=4.5.1->ipywidgets>=7.0.0->swifter) (17.0.0)\r\n",
      "Requirement already satisfied: terminado>=0.8.1 in /opt/conda/lib/python3.6/site-packages (from notebook>=4.4.1->widgetsnbextension~=3.2.0->ipywidgets>=7.0.0->swifter) (0.8.1)\r\n",
      "Requirement already satisfied: jinja2 in /opt/conda/lib/python3.6/site-packages (from notebook>=4.4.1->widgetsnbextension~=3.2.0->ipywidgets>=7.0.0->swifter) (2.10)\r\n",
      "Requirement already satisfied: nbconvert in /opt/conda/lib/python3.6/site-packages (from notebook>=4.4.1->widgetsnbextension~=3.2.0->ipywidgets>=7.0.0->swifter) (5.3.1)\r\n",
      "Requirement already satisfied: Send2Trash in /opt/conda/lib/python3.6/site-packages (from notebook>=4.4.1->widgetsnbextension~=3.2.0->ipywidgets>=7.0.0->swifter) (1.5.0)\r\n",
      "Requirement already satisfied: parso>=0.2.0 in /opt/conda/lib/python3.6/site-packages (from jedi>=0.10->ipython>=4.0.0->ipywidgets>=7.0.0->swifter) (0.2.0)\r\n",
      "Requirement already satisfied: wcwidth in /opt/conda/lib/python3.6/site-packages (from prompt-toolkit<2.0.0,>=1.0.15->ipython>=4.0.0->ipywidgets>=7.0.0->swifter) (0.1.7)\r\n",
      "Requirement already satisfied: ptyprocess>=0.5 in /opt/conda/lib/python3.6/site-packages (from pexpect; sys_platform != \"win32\"->ipython>=4.0.0->ipywidgets>=7.0.0->swifter) (0.5.2)\r\n",
      "Requirement already satisfied: MarkupSafe>=0.23 in /opt/conda/lib/python3.6/site-packages (from jinja2->notebook>=4.4.1->widgetsnbextension~=3.2.0->ipywidgets>=7.0.0->swifter) (1.0)\r\n",
      "Requirement already satisfied: mistune>=0.7.4 in /opt/conda/lib/python3.6/site-packages (from nbconvert->notebook>=4.4.1->widgetsnbextension~=3.2.0->ipywidgets>=7.0.0->swifter) (0.8.3)\r\n",
      "Requirement already satisfied: entrypoints>=0.2.2 in /opt/conda/lib/python3.6/site-packages (from nbconvert->notebook>=4.4.1->widgetsnbextension~=3.2.0->ipywidgets>=7.0.0->swifter) (0.2.3)\r\n",
      "Requirement already satisfied: bleach in /opt/conda/lib/python3.6/site-packages (from nbconvert->notebook>=4.4.1->widgetsnbextension~=3.2.0->ipywidgets>=7.0.0->swifter) (2.1.3)\r\n",
      "Requirement already satisfied: pandocfilters>=1.4.1 in /opt/conda/lib/python3.6/site-packages (from nbconvert->notebook>=4.4.1->widgetsnbextension~=3.2.0->ipywidgets>=7.0.0->swifter) (1.4.2)\r\n",
      "Requirement already satisfied: testpath in /opt/conda/lib/python3.6/site-packages (from nbconvert->notebook>=4.4.1->widgetsnbextension~=3.2.0->ipywidgets>=7.0.0->swifter) (0.3.1)\r\n",
      "Requirement already satisfied: html5lib!=1.0b1,!=1.0b2,!=1.0b3,!=1.0b4,!=1.0b5,!=1.0b6,!=1.0b7,!=1.0b8,>=0.99999999pre in /opt/conda/lib/python3.6/site-packages (from bleach->nbconvert->notebook>=4.4.1->widgetsnbextension~=3.2.0->ipywidgets>=7.0.0->swifter) (1.0.1)\r\n",
      "Requirement already satisfied: webencodings in /opt/conda/lib/python3.6/site-packages (from html5lib!=1.0b1,!=1.0b2,!=1.0b3,!=1.0b4,!=1.0b5,!=1.0b6,!=1.0b7,!=1.0b8,>=0.99999999pre->bleach->nbconvert->notebook>=4.4.1->widgetsnbextension~=3.2.0->ipywidgets>=7.0.0->swifter) (0.5.1)\r\n",
      "Building wheels for collected packages: swifter\r\n",
      "  Building wheel for swifter (setup.py) ... \u001b[?25l-\b \bdone\r\n",
      "\u001b[?25h  Stored in directory: /tmp/.cache/pip/wheels/97/17/94/ff3415e88282ef0e435671f061c170c552671b9d3af75e96de\r\n",
      "Successfully built swifter\r\n",
      "Installing collected packages: swifter\r\n",
      "Successfully installed swifter-0.287\r\n",
      "\u001b[33mYou are using pip version 19.0.3, however version 19.1 is available.\r\n",
      "You should consider upgrading via the 'pip install --upgrade pip' command.\u001b[0m\r\n",
      "Requirement already satisfied: gensim in /opt/conda/lib/python3.6/site-packages (3.7.2)\r\n",
      "Requirement already satisfied: smart-open>=1.7.0 in /opt/conda/lib/python3.6/site-packages (from gensim) (1.8.2)\r\n",
      "Requirement already satisfied: scipy>=0.18.1 in /opt/conda/lib/python3.6/site-packages (from gensim) (1.1.0)\r\n",
      "Requirement already satisfied: numpy>=1.11.3 in /opt/conda/lib/python3.6/site-packages (from gensim) (1.16.3)\r\n",
      "Requirement already satisfied: six>=1.5.0 in /opt/conda/lib/python3.6/site-packages (from gensim) (1.12.0)\r\n",
      "Requirement already satisfied: boto3 in /opt/conda/lib/python3.6/site-packages (from smart-open>=1.7.0->gensim) (1.9.134)\r\n",
      "Requirement already satisfied: requests in /opt/conda/lib/python3.6/site-packages (from smart-open>=1.7.0->gensim) (2.21.0)\r\n",
      "Requirement already satisfied: boto>=2.32 in /opt/conda/lib/python3.6/site-packages (from smart-open>=1.7.0->gensim) (2.48.0)\r\n",
      "Requirement already satisfied: bz2file in /opt/conda/lib/python3.6/site-packages (from smart-open>=1.7.0->gensim) (0.98)\r\n",
      "Requirement already satisfied: jmespath<1.0.0,>=0.7.1 in /opt/conda/lib/python3.6/site-packages (from boto3->smart-open>=1.7.0->gensim) (0.9.4)\r\n",
      "Requirement already satisfied: s3transfer<0.3.0,>=0.2.0 in /opt/conda/lib/python3.6/site-packages (from boto3->smart-open>=1.7.0->gensim) (0.2.0)\r\n",
      "Requirement already satisfied: botocore<1.13.0,>=1.12.134 in /opt/conda/lib/python3.6/site-packages (from boto3->smart-open>=1.7.0->gensim) (1.12.134)\r\n",
      "Requirement already satisfied: chardet<3.1.0,>=3.0.2 in /opt/conda/lib/python3.6/site-packages (from requests->smart-open>=1.7.0->gensim) (3.0.4)\r\n",
      "Requirement already satisfied: idna<2.9,>=2.5 in /opt/conda/lib/python3.6/site-packages (from requests->smart-open>=1.7.0->gensim) (2.6)\r\n",
      "Requirement already satisfied: certifi>=2017.4.17 in /opt/conda/lib/python3.6/site-packages (from requests->smart-open>=1.7.0->gensim) (2019.3.9)\r\n",
      "Requirement already satisfied: urllib3<1.25,>=1.21.1 in /opt/conda/lib/python3.6/site-packages (from requests->smart-open>=1.7.0->gensim) (1.22)\r\n",
      "Requirement already satisfied: docutils>=0.10 in /opt/conda/lib/python3.6/site-packages (from botocore<1.13.0,>=1.12.134->boto3->smart-open>=1.7.0->gensim) (0.14)\r\n",
      "Requirement already satisfied: python-dateutil<3.0.0,>=2.1; python_version >= \"2.7\" in /opt/conda/lib/python3.6/site-packages (from botocore<1.13.0,>=1.12.134->boto3->smart-open>=1.7.0->gensim) (2.6.0)\r\n",
      "\u001b[33mYou are using pip version 19.0.3, however version 19.1 is available.\r\n",
      "You should consider upgrading via the 'pip install --upgrade pip' command.\u001b[0m\r\n",
      "Requirement already satisfied: pyarrow in /opt/conda/lib/python3.6/site-packages (0.10.0)\r\n",
      "Requirement already satisfied: numpy>=1.10 in /opt/conda/lib/python3.6/site-packages (from pyarrow) (1.16.3)\r\n",
      "Requirement already satisfied: six>=1.0.0 in /opt/conda/lib/python3.6/site-packages (from pyarrow) (1.12.0)\r\n",
      "\u001b[33mYou are using pip version 19.0.3, however version 19.1 is available.\r\n",
      "You should consider upgrading via the 'pip install --upgrade pip' command.\u001b[0m\r\n"
     ]
    }
   ],
   "source": [
    "!pip3 install swifter\n",
    "!pip3 install gensim\n",
    "!pip3 install pyarrow"
   ]
  },
  {
   "cell_type": "code",
   "execution_count": 2,
   "metadata": {
    "_cell_guid": "b1076dfc-b9ad-4769-8c92-a6c4dae69d19",
    "_uuid": "8f2839f25d086af736a60e9eeb907d3b93b6e0e5"
   },
   "outputs": [
    {
     "name": "stderr",
     "output_type": "stream",
     "text": [
      "/opt/conda/lib/python3.6/site-packages/smart_open/ssh.py:34: UserWarning: paramiko missing, opening SSH/SCP/SFTP paths will be disabled.  `pip install paramiko` to suppress\n",
      "  warnings.warn('paramiko missing, opening SSH/SCP/SFTP paths will be disabled.  `pip install paramiko` to suppress')\n",
      "Using TensorFlow backend.\n"
     ]
    }
   ],
   "source": [
    "import numpy as np # linear algebra\n",
    "import pandas as pd # data processing, CSV file I/O (e.g. pd.read_csv)\n",
    "from sklearn import model_selection\n",
    "\n",
    "import os\n",
    "import gc\n",
    "\n",
    "\n",
    "# Чтение данных из паркета\n",
    "from os import walk\n",
    "import pyarrow.parquet as parquet\n",
    "\n",
    "\n",
    "# Used to train the baseline model\n",
    "from gensim.models import KeyedVectors\n",
    "\n",
    "input_path = '../input/'\n",
    "output_path = '../input/'\n",
    "\n",
    "\n",
    "# Для нейронки\n",
    "from keras.preprocessing.text import Tokenizer\n",
    "from keras.preprocessing.sequence import pad_sequences\n",
    "from keras.layers import Embedding, Input, Dense, CuDNNGRU,concatenate, Bidirectional, SpatialDropout1D, Conv1D, GlobalAveragePooling1D, GlobalMaxPooling1D\n",
    "from keras.optimizers import RMSprop, Adam\n",
    "from keras.models import Model\n",
    "from keras.callbacks import EarlyStopping\n",
    "\n",
    "import re "
   ]
  },
  {
   "cell_type": "code",
   "execution_count": 3,
   "metadata": {},
   "outputs": [],
   "source": [
    "# Kaggle Kernel имеет ограничение в 13 GB RAM "
   ]
  },
  {
   "cell_type": "code",
   "execution_count": 4,
   "metadata": {},
   "outputs": [
    {
     "name": "stdout",
     "output_type": "stream",
     "text": [
      "48\n"
     ]
    }
   ],
   "source": [
    "# Получение директорий с постами (2 дня)\n",
    "l = os.listdir(\"../input/sna-texts-train/textstrain/textsTrain/\")\n",
    "k = []\n",
    "for i in l :\n",
    "    \n",
    "    if i.find('_') == -1: \n",
    "        k.append(i)\n",
    "del l        \n",
    "print(len(k))\n",
    "k = k[46:]"
   ]
  },
  {
   "cell_type": "markdown",
   "metadata": {},
   "source": [
    "## Чтение данных"
   ]
  },
  {
   "cell_type": "code",
   "execution_count": 5,
   "metadata": {},
   "outputs": [],
   "source": [
    "d = {}\n",
    "data_full = pd.DataFrame(data=d)\n",
    "for i in k:\n",
    "    data = parquet.read_table(\"../input/sna-texts-train/textstrain/textsTrain/{0}\".format(i), \\\n",
    "                          columns = ['instanceId_objectId','feedback']).to_pandas()\n",
    "    data.rename(columns = {'instanceId_objectId':'objectId'}, inplace = True)\n",
    "    data['label'] = data['feedback'].apply(lambda x: 1.0 if(\"Liked\" in x) else 0.0).values\n",
    "    #data_full = data.append(data[['objectId','label']])\n",
    "    data_full = data_full.append(data[['objectId','label']])"
   ]
  },
  {
   "cell_type": "code",
   "execution_count": 6,
   "metadata": {},
   "outputs": [
    {
     "data": {
      "text/plain": [
       "(781059, 2)"
      ]
     },
     "execution_count": 6,
     "metadata": {},
     "output_type": "execute_result"
    }
   ],
   "source": [
    "data_full.shape"
   ]
  },
  {
   "cell_type": "code",
   "execution_count": 7,
   "metadata": {},
   "outputs": [
    {
     "name": "stdout",
     "output_type": "stream",
     "text": [
      "Done with part-00021-1b50c8f5-87db-4a53-9677-17f1113c3f8d-c000.gz.parquet\n",
      "Done with part-00025-1b50c8f5-87db-4a53-9677-17f1113c3f8d-c000.gz.parquet\n",
      "Done with part-00026-1b50c8f5-87db-4a53-9677-17f1113c3f8d-c000.gz.parquet\n",
      "Done with part-00020-1b50c8f5-87db-4a53-9677-17f1113c3f8d-c000.gz.parquet\n",
      "Done with part-00004-1b50c8f5-87db-4a53-9677-17f1113c3f8d-c000.gz.parquet\n",
      "Done with part-00006-1b50c8f5-87db-4a53-9677-17f1113c3f8d-c000.gz.parquet\n",
      "Done with part-00007-1b50c8f5-87db-4a53-9677-17f1113c3f8d-c000.gz.parquet\n",
      "Done with part-00022-1b50c8f5-87db-4a53-9677-17f1113c3f8d-c000.gz.parquet\n",
      "Done with part-00012-1b50c8f5-87db-4a53-9677-17f1113c3f8d-c000.gz.parquet\n",
      "Done with part-00023-1b50c8f5-87db-4a53-9677-17f1113c3f8d-c000.gz.parquet\n",
      "Done with part-00011-1b50c8f5-87db-4a53-9677-17f1113c3f8d-c000.gz.parquet\n",
      "Done with part-00001-1b50c8f5-87db-4a53-9677-17f1113c3f8d-c000.gz.parquet\n",
      "Done with part-00016-1b50c8f5-87db-4a53-9677-17f1113c3f8d-c000.gz.parquet\n",
      "Done with part-00024-1b50c8f5-87db-4a53-9677-17f1113c3f8d-c000.gz.parquet\n",
      "Done with part-00009-1b50c8f5-87db-4a53-9677-17f1113c3f8d-c000.gz.parquet\n",
      "Done with part-00002-1b50c8f5-87db-4a53-9677-17f1113c3f8d-c000.gz.parquet\n",
      "Done with part-00005-1b50c8f5-87db-4a53-9677-17f1113c3f8d-c000.gz.parquet\n",
      "Done with part-00003-1b50c8f5-87db-4a53-9677-17f1113c3f8d-c000.gz.parquet\n",
      "Done with part-00000-1b50c8f5-87db-4a53-9677-17f1113c3f8d-c000.gz.parquet\n",
      "Done with part-00008-1b50c8f5-87db-4a53-9677-17f1113c3f8d-c000.gz.parquet\n",
      "Done with part-00013-1b50c8f5-87db-4a53-9677-17f1113c3f8d-c000.gz.parquet\n",
      "Done with part-00014-1b50c8f5-87db-4a53-9677-17f1113c3f8d-c000.gz.parquet\n",
      "Done with part-00018-1b50c8f5-87db-4a53-9677-17f1113c3f8d-c000.gz.parquet\n",
      "Done with part-00015-1b50c8f5-87db-4a53-9677-17f1113c3f8d-c000.gz.parquet\n",
      "Done with part-00017-1b50c8f5-87db-4a53-9677-17f1113c3f8d-c000.gz.parquet\n",
      "Done with part-00010-1b50c8f5-87db-4a53-9677-17f1113c3f8d-c000.gz.parquet\n",
      "Done with part-00019-1b50c8f5-87db-4a53-9677-17f1113c3f8d-c000.gz.parquet\n"
     ]
    }
   ],
   "source": [
    "parts = []\n",
    "\n",
    "\n",
    "ids = data_full.groupby('objectId').count()\n",
    "\n",
    "\n",
    "for (dirpath, dirnames, filenames) in walk(input_path + 'sna-texts/texts/texts/textsTrain/'):\n",
    "    for name in filenames:\n",
    "        if name.startswith('part'):\n",
    "            \n",
    "            texts = parquet.read_table(input_path + 'sna-texts/texts/texts/textsTrain/' + name, \\\n",
    "                                       columns = ['objectId','text']).to_pandas()            \n",
    "      \n",
    "            joined = ids.join(texts.set_index('objectId'), how='inner', on = 'objectId')\n",
    "            \n",
    "            joined['text'] = joined.text\n",
    "            # Memorize\n",
    "            parts.append(joined[['text']])\n",
    "            print('Done with ' + name)"
   ]
  },
  {
   "cell_type": "code",
   "execution_count": 8,
   "metadata": {},
   "outputs": [
    {
     "data": {
      "text/html": [
       "<div>\n",
       "<style scoped>\n",
       "    .dataframe tbody tr th:only-of-type {\n",
       "        vertical-align: middle;\n",
       "    }\n",
       "\n",
       "    .dataframe tbody tr th {\n",
       "        vertical-align: top;\n",
       "    }\n",
       "\n",
       "    .dataframe thead th {\n",
       "        text-align: right;\n",
       "    }\n",
       "</style>\n",
       "<table border=\"1\" class=\"dataframe\">\n",
       "  <thead>\n",
       "    <tr style=\"text-align: right;\">\n",
       "      <th></th>\n",
       "      <th>objectId</th>\n",
       "      <th>label</th>\n",
       "      <th>text</th>\n",
       "    </tr>\n",
       "  </thead>\n",
       "  <tbody>\n",
       "    <tr>\n",
       "      <th>0</th>\n",
       "      <td>9886256</td>\n",
       "      <td>0.0</td>\n",
       "      <td>Продолжаем обтекать...</td>\n",
       "    </tr>\n",
       "    <tr>\n",
       "      <th>1</th>\n",
       "      <td>18426979</td>\n",
       "      <td>0.0</td>\n",
       "      <td>Мороз и солнце: день чудесный! \\nАптека, улица...</td>\n",
       "    </tr>\n",
       "    <tr>\n",
       "      <th>1</th>\n",
       "      <td>18426979</td>\n",
       "      <td>0.0</td>\n",
       "      <td>Мороз и солнце: день чудесный! \\nАптека, улица...</td>\n",
       "    </tr>\n",
       "    <tr>\n",
       "      <th>2</th>\n",
       "      <td>18426979</td>\n",
       "      <td>0.0</td>\n",
       "      <td>Мороз и солнце: день чудесный! \\nАптека, улица...</td>\n",
       "    </tr>\n",
       "    <tr>\n",
       "      <th>2</th>\n",
       "      <td>18426979</td>\n",
       "      <td>0.0</td>\n",
       "      <td>Мороз и солнце: день чудесный! \\nАптека, улица...</td>\n",
       "    </tr>\n",
       "  </tbody>\n",
       "</table>\n",
       "</div>"
      ],
      "text/plain": [
       "   objectId                        ...                                                                       text\n",
       "0   9886256                        ...                                                     Продолжаем обтекать...\n",
       "1  18426979                        ...                          Мороз и солнце: день чудесный! \\nАптека, улица...\n",
       "1  18426979                        ...                          Мороз и солнце: день чудесный! \\nАптека, улица...\n",
       "2  18426979                        ...                          Мороз и солнце: день чудесный! \\nАптека, улица...\n",
       "2  18426979                        ...                          Мороз и солнце: день чудесный! \\nАптека, улица...\n",
       "\n",
       "[5 rows x 3 columns]"
      ]
     },
     "execution_count": 8,
     "metadata": {},
     "output_type": "execute_result"
    }
   ],
   "source": [
    "train = data_full.join(pd.concat(parts), on = 'objectId')\n",
    "\n",
    "train.head()\n"
   ]
  },
  {
   "cell_type": "markdown",
   "metadata": {},
   "source": [
    "## Preprocessing"
   ]
  },
  {
   "cell_type": "code",
   "execution_count": 9,
   "metadata": {},
   "outputs": [],
   "source": [
    "\n",
    "punct = \"/-'?!.,#$%\\'()*+-/:;<=>@[\\\\]^_`{|}~`\" + '\"\"“”’' + '∞θ÷α•à−β∅³π‘₹´°£€\\×™√²—–&'\n",
    "def clean_special_chars(text, punct):\n",
    "    for p in punct:\n",
    "        text = text.replace(p, ' ')\n",
    "    \n",
    "    return str(text)\n",
    "\n",
    "train['text'] = train.text.apply(lambda x : clean_special_chars(x,punct))\n",
    "\n",
    "\n",
    "def remove_english_and_num(text):\n",
    "\n",
    "    if len(str(text))> 0 : \n",
    "        \n",
    "        return str(re.sub(r'[A-z0-9]', '', str(text)))\n",
    "    return \"\"\n",
    "\n",
    "train['text'] = train.text.apply(lambda x : remove_english_and_num(x))\n",
    "\n"
   ]
  },
  {
   "cell_type": "markdown",
   "metadata": {},
   "source": [
    "## Embeddings (обученная модель)"
   ]
  },
  {
   "cell_type": "code",
   "execution_count": 10,
   "metadata": {},
   "outputs": [],
   "source": [
    "ft_common_crawl = '../input/embeddings-wiki/ft_native_300_ru_wiki_lenta_nltk_word_tokenize.vec'\n",
    "embeddings_index = KeyedVectors.load_word2vec_format(ft_common_crawl)"
   ]
  },
  {
   "cell_type": "code",
   "execution_count": 11,
   "metadata": {},
   "outputs": [
    {
     "name": "stdout",
     "output_type": "stream",
     "text": [
      "782969 train comments, 86997 validate comments\n"
     ]
    }
   ],
   "source": [
    "train_df, validate_df = model_selection.train_test_split(train, test_size=0.1)\n",
    "print('%d train comments, %d validate comments' % (len(train_df), len(validate_df)))"
   ]
  },
  {
   "cell_type": "code",
   "execution_count": 12,
   "metadata": {},
   "outputs": [],
   "source": [
    "MAX_NUM_WORDS = 200000\n",
    "TARGET_COLUMN = 'label'\n",
    "TEXT_COLUMN = 'text'\n",
    "\n",
    "\n",
    "tokenizer = Tokenizer(num_words=MAX_NUM_WORDS)\n",
    "tokenizer.fit_on_texts(train_df[TEXT_COLUMN])\n",
    "\n",
    "\n",
    "MAX_SEQUENCE_LENGTH = 200\n",
    "def pad_text(texts, tokenizer):\n",
    "    return pad_sequences(tokenizer.texts_to_sequences(texts), maxlen=MAX_SEQUENCE_LENGTH)"
   ]
  },
  {
   "cell_type": "code",
   "execution_count": 13,
   "metadata": {},
   "outputs": [],
   "source": [
    "EMBEDDINGS_DIMENSION = 300\n",
    "embedding_matrix = np.zeros((len(tokenizer.word_index) + 1,EMBEDDINGS_DIMENSION))"
   ]
  },
  {
   "cell_type": "code",
   "execution_count": 14,
   "metadata": {},
   "outputs": [],
   "source": [
    "num_words_in_embedding = 0\n",
    "\n",
    "for word, i in tokenizer.word_index.items():\n",
    "    if word in embeddings_index.vocab:\n",
    "        embedding_vector = embeddings_index[word]\n",
    "        embedding_matrix[i] = embedding_vector        \n",
    "        num_words_in_embedding += 1"
   ]
  },
  {
   "cell_type": "code",
   "execution_count": 15,
   "metadata": {},
   "outputs": [],
   "source": [
    "train_text = pad_text(train_df[TEXT_COLUMN], tokenizer)\n",
    "train_labels = train_df[TARGET_COLUMN]\n",
    "validate_text = pad_text(validate_df[TEXT_COLUMN], tokenizer)\n",
    "validate_labels = validate_df[TARGET_COLUMN]"
   ]
  },
  {
   "cell_type": "code",
   "execution_count": 16,
   "metadata": {},
   "outputs": [],
   "source": [
    "\n",
    "gc.collect()\n",
    "del embeddings_index\n",
    "del train"
   ]
  },
  {
   "cell_type": "markdown",
   "metadata": {},
   "source": [
    "## Модель"
   ]
  },
  {
   "cell_type": "code",
   "execution_count": 17,
   "metadata": {},
   "outputs": [
    {
     "name": "stdout",
     "output_type": "stream",
     "text": [
      "WARNING:tensorflow:From /opt/conda/lib/python3.6/site-packages/tensorflow/python/framework/op_def_library.py:263: colocate_with (from tensorflow.python.framework.ops) is deprecated and will be removed in a future version.\n",
      "Instructions for updating:\n",
      "Colocations handled automatically by placer.\n",
      "WARNING:tensorflow:From /opt/conda/lib/python3.6/site-packages/keras/backend/tensorflow_backend.py:3445: calling dropout (from tensorflow.python.ops.nn_ops) with keep_prob is deprecated and will be removed in a future version.\n",
      "Instructions for updating:\n",
      "Please use `rate` instead of `keep_prob`. Rate should be set to `rate = 1 - keep_prob`.\n",
      "__________________________________________________________________________________________________\n",
      "Layer (type)                    Output Shape         Param #     Connected to                     \n",
      "==================================================================================================\n",
      "input_1 (InputLayer)            (None, 200)          0                                            \n",
      "__________________________________________________________________________________________________\n",
      "embedding_1 (Embedding)         (None, 200, 300)     184371000   input_1[0][0]                    \n",
      "__________________________________________________________________________________________________\n",
      "spatial_dropout1d_1 (SpatialDro (None, 200, 300)     0           embedding_1[0][0]                \n",
      "__________________________________________________________________________________________________\n",
      "bidirectional_1 (Bidirectional) (None, 200, 128)     140544      spatial_dropout1d_1[0][0]        \n",
      "__________________________________________________________________________________________________\n",
      "conv1d_1 (Conv1D)               (None, 199, 64)      16448       bidirectional_1[0][0]            \n",
      "__________________________________________________________________________________________________\n",
      "global_average_pooling1d_1 (Glo (None, 64)           0           conv1d_1[0][0]                   \n",
      "__________________________________________________________________________________________________\n",
      "global_max_pooling1d_1 (GlobalM (None, 64)           0           conv1d_1[0][0]                   \n",
      "__________________________________________________________________________________________________\n",
      "concatenate_1 (Concatenate)     (None, 128)          0           global_average_pooling1d_1[0][0] \n",
      "                                                                 global_max_pooling1d_1[0][0]     \n",
      "__________________________________________________________________________________________________\n",
      "dense_1 (Dense)                 (None, 1)            129         concatenate_1[0][0]              \n",
      "==================================================================================================\n",
      "Total params: 184,528,121\n",
      "Trainable params: 157,121\n",
      "Non-trainable params: 184,371,000\n",
      "__________________________________________________________________________________________________\n"
     ]
    }
   ],
   "source": [
    "sequence_input = Input(shape=(MAX_SEQUENCE_LENGTH,), dtype='int32')\n",
    "embedding_layer = Embedding(len(tokenizer.word_index) + 1,\n",
    "                            EMBEDDINGS_DIMENSION,\n",
    "                            weights=[embedding_matrix],\n",
    "                            input_length=MAX_SEQUENCE_LENGTH,\n",
    "                            trainable=False)\n",
    "x = embedding_layer(sequence_input)\n",
    "x = SpatialDropout1D(0.2)(x)\n",
    "x = Bidirectional(CuDNNGRU(64, return_sequences=True))(x)   \n",
    "x = Conv1D(64, kernel_size = 2, padding = \"valid\", kernel_initializer = \"he_uniform\")(x)\n",
    "\n",
    "avg_pool1 = GlobalAveragePooling1D()(x)\n",
    "max_pool1 = GlobalMaxPooling1D()(x)     \n",
    "\n",
    "x = concatenate([avg_pool1, max_pool1])\n",
    "\n",
    "preds = Dense(1, activation='sigmoid')(x)\n",
    "\n",
    "\n",
    "model = Model(sequence_input, preds)\n",
    "model.summary()"
   ]
  },
  {
   "cell_type": "code",
   "execution_count": 18,
   "metadata": {},
   "outputs": [],
   "source": [
    "model.compile(loss='binary_crossentropy',\n",
    "              optimizer=Adam(),\n",
    "              metrics=['acc'])"
   ]
  },
  {
   "cell_type": "code",
   "execution_count": 19,
   "metadata": {},
   "outputs": [],
   "source": [
    "BATCH_SIZE = 1024\n",
    "NUM_EPOCHS = 4"
   ]
  },
  {
   "cell_type": "markdown",
   "metadata": {},
   "source": [
    "## Обучение"
   ]
  },
  {
   "cell_type": "code",
   "execution_count": 20,
   "metadata": {},
   "outputs": [
    {
     "name": "stdout",
     "output_type": "stream",
     "text": [
      "WARNING:tensorflow:From /opt/conda/lib/python3.6/site-packages/tensorflow/python/ops/math_ops.py:3066: to_int32 (from tensorflow.python.ops.math_ops) is deprecated and will be removed in a future version.\n",
      "Instructions for updating:\n",
      "Use tf.cast instead.\n",
      "WARNING:tensorflow:From /opt/conda/lib/python3.6/site-packages/tensorflow/python/ops/math_grad.py:102: div (from tensorflow.python.ops.math_ops) is deprecated and will be removed in a future version.\n",
      "Instructions for updating:\n",
      "Deprecated in favor of operator or tf.math.divide.\n",
      "Train on 782969 samples, validate on 86997 samples\n",
      "Epoch 1/4\n",
      "782969/782969 [==============================] - 73s 94us/step - loss: 0.4274 - acc: 0.8414 - val_loss: 0.4194 - val_acc: 0.8432\n",
      "Epoch 2/4\n",
      "782969/782969 [==============================] - 69s 88us/step - loss: 0.4200 - acc: 0.8423 - val_loss: 0.4173 - val_acc: 0.8430\n",
      "Epoch 3/4\n",
      "782969/782969 [==============================] - 69s 89us/step - loss: 0.4171 - acc: 0.8423 - val_loss: 0.4165 - val_acc: 0.8432\n",
      "Epoch 4/4\n",
      "782969/782969 [==============================] - 69s 89us/step - loss: 0.4151 - acc: 0.8423 - val_loss: 0.4177 - val_acc: 0.8433\n"
     ]
    },
    {
     "data": {
      "text/plain": [
       "<keras.callbacks.History at 0x7f965cbb8518>"
      ]
     },
     "execution_count": 20,
     "metadata": {},
     "output_type": "execute_result"
    }
   ],
   "source": [
    "model.fit(\n",
    "    train_text,\n",
    "    train_labels,\n",
    "    batch_size=BATCH_SIZE,\n",
    "    epochs=NUM_EPOCHS,\n",
    "    validation_data=(validate_text, validate_labels),\n",
    "    callbacks = [EarlyStopping(monitor='val_loss', mode='min', verbose=1, patience=3)])"
   ]
  },
  {
   "cell_type": "markdown",
   "metadata": {},
   "source": [
    "## Обработка тестовых данных"
   ]
  },
  {
   "cell_type": "code",
   "execution_count": 21,
   "metadata": {},
   "outputs": [],
   "source": [
    "test_texts = parquet.read_table(input_path + 'sna-texts/texts/texts/textsTest', \\\n",
    "                                columns = ['objectId','text']).to_pandas()\n",
    "test_texts.head(10)\n",
    "\n",
    "test_texts['text'] = test_texts.text.apply(lambda x : clean_special_chars(x,punct))\n",
    "test_texts['text'] = test_texts.text.apply(lambda x : remove_english_and_num(x))\n"
   ]
  },
  {
   "cell_type": "code",
   "execution_count": 22,
   "metadata": {},
   "outputs": [
    {
     "data": {
      "text/html": [
       "<div>\n",
       "<style scoped>\n",
       "    .dataframe tbody tr th:only-of-type {\n",
       "        vertical-align: middle;\n",
       "    }\n",
       "\n",
       "    .dataframe tbody tr th {\n",
       "        vertical-align: top;\n",
       "    }\n",
       "\n",
       "    .dataframe thead th {\n",
       "        text-align: right;\n",
       "    }\n",
       "</style>\n",
       "<table border=\"1\" class=\"dataframe\">\n",
       "  <thead>\n",
       "    <tr style=\"text-align: right;\">\n",
       "      <th></th>\n",
       "      <th>objectId</th>\n",
       "      <th>text</th>\n",
       "      <th>weight</th>\n",
       "    </tr>\n",
       "  </thead>\n",
       "  <tbody>\n",
       "    <tr>\n",
       "      <th>0</th>\n",
       "      <td>517288</td>\n",
       "      <td>Квартирник НТВ у Маргулиса  группа Пилот</td>\n",
       "      <td>-0.180632</td>\n",
       "    </tr>\n",
       "    <tr>\n",
       "      <th>1</th>\n",
       "      <td>9501964</td>\n",
       "      <td>РОДИТЕЛЯМ   ОЧЕНЬ ТРОГАТЕЛЬНАЯ ПЕСНЯ    Артур...</td>\n",
       "      <td>-0.142136</td>\n",
       "    </tr>\n",
       "    <tr>\n",
       "      <th>2</th>\n",
       "      <td>23007371</td>\n",
       "      <td>Сухой Суперджет  откажется от западных комплек...</td>\n",
       "      <td>-0.102161</td>\n",
       "    </tr>\n",
       "    <tr>\n",
       "      <th>3</th>\n",
       "      <td>38353886</td>\n",
       "      <td>Сгорел сарай  гори и хата</td>\n",
       "      <td>-0.220770</td>\n",
       "    </tr>\n",
       "    <tr>\n",
       "      <th>4</th>\n",
       "      <td>21192138</td>\n",
       "      <td>Живодёры отрубили лапы собаке</td>\n",
       "      <td>-0.263459</td>\n",
       "    </tr>\n",
       "    <tr>\n",
       "      <th>5</th>\n",
       "      <td>26415073</td>\n",
       "      <td>АЖУРНЫЙ МАКОВЫЙ КУЛИЧ С ТАКИМ НЕЖНЫМ И ...</td>\n",
       "      <td>-0.103073</td>\n",
       "    </tr>\n",
       "    <tr>\n",
       "      <th>6</th>\n",
       "      <td>36734526</td>\n",
       "      <td>Когда друг уснул в баре  и тебе нужно е...</td>\n",
       "      <td>-0.193897</td>\n",
       "    </tr>\n",
       "    <tr>\n",
       "      <th>7</th>\n",
       "      <td>8699823</td>\n",
       "      <td>Никифоров день\\nДата в  году \\t\\t марта  понед...</td>\n",
       "      <td>-0.140325</td>\n",
       "    </tr>\n",
       "    <tr>\n",
       "      <th>8</th>\n",
       "      <td>12236843</td>\n",
       "      <td></td>\n",
       "      <td>-0.148599</td>\n",
       "    </tr>\n",
       "    <tr>\n",
       "      <th>9</th>\n",
       "      <td>38393782</td>\n",
       "      <td>ДНР и ЛНР  новости  Войска берут «в кольцо» в ...</td>\n",
       "      <td>-0.024322</td>\n",
       "    </tr>\n",
       "  </tbody>\n",
       "</table>\n",
       "</div>"
      ],
      "text/plain": [
       "   objectId    ...       weight\n",
       "0    517288    ...    -0.180632\n",
       "1   9501964    ...    -0.142136\n",
       "2  23007371    ...    -0.102161\n",
       "3  38353886    ...    -0.220770\n",
       "4  21192138    ...    -0.263459\n",
       "5  26415073    ...    -0.103073\n",
       "6  36734526    ...    -0.193897\n",
       "7   8699823    ...    -0.140325\n",
       "8  12236843    ...    -0.148599\n",
       "9  38393782    ...    -0.024322\n",
       "\n",
       "[10 rows x 3 columns]"
      ]
     },
     "execution_count": 22,
     "metadata": {},
     "output_type": "execute_result"
    }
   ],
   "source": [
    "test_texts['weight'] = - model.predict(pad_text(test_texts[TEXT_COLUMN], tokenizer))\n",
    "test_texts.head(10)\n"
   ]
  },
  {
   "cell_type": "code",
   "execution_count": 23,
   "metadata": {},
   "outputs": [
    {
     "data": {
      "text/html": [
       "<div>\n",
       "<style scoped>\n",
       "    .dataframe tbody tr th:only-of-type {\n",
       "        vertical-align: middle;\n",
       "    }\n",
       "\n",
       "    .dataframe tbody tr th {\n",
       "        vertical-align: top;\n",
       "    }\n",
       "\n",
       "    .dataframe thead th {\n",
       "        text-align: right;\n",
       "    }\n",
       "</style>\n",
       "<table border=\"1\" class=\"dataframe\">\n",
       "  <thead>\n",
       "    <tr style=\"text-align: right;\">\n",
       "      <th></th>\n",
       "      <th>instanceId_userId</th>\n",
       "      <th>objectId</th>\n",
       "    </tr>\n",
       "  </thead>\n",
       "  <tbody>\n",
       "    <tr>\n",
       "      <th>0</th>\n",
       "      <td>1006</td>\n",
       "      <td>34577503</td>\n",
       "    </tr>\n",
       "    <tr>\n",
       "      <th>1</th>\n",
       "      <td>1006</td>\n",
       "      <td>37520199</td>\n",
       "    </tr>\n",
       "    <tr>\n",
       "      <th>2</th>\n",
       "      <td>1618</td>\n",
       "      <td>546086</td>\n",
       "    </tr>\n",
       "    <tr>\n",
       "      <th>3</th>\n",
       "      <td>1618</td>\n",
       "      <td>546086</td>\n",
       "    </tr>\n",
       "    <tr>\n",
       "      <th>4</th>\n",
       "      <td>1618</td>\n",
       "      <td>546086</td>\n",
       "    </tr>\n",
       "  </tbody>\n",
       "</table>\n",
       "</div>"
      ],
      "text/plain": [
       "   instanceId_userId  objectId\n",
       "0               1006  34577503\n",
       "1               1006  37520199\n",
       "2               1618    546086\n",
       "3               1618    546086\n",
       "4               1618    546086"
      ]
     },
     "execution_count": 23,
     "metadata": {},
     "output_type": "execute_result"
    }
   ],
   "source": [
    "test = parquet.read_table(  '../input/sna-texts-test/textstest/textsTest', \\\n",
    "    columns = ['instanceId_userId','instanceId_objectId']).to_pandas()\n",
    "\n",
    "test.rename(columns = {'instanceId_objectId':'objectId'}, inplace = True)\n",
    "test.head()"
   ]
  },
  {
   "cell_type": "code",
   "execution_count": 24,
   "metadata": {},
   "outputs": [
    {
     "data": {
      "text/html": [
       "<div>\n",
       "<style scoped>\n",
       "    .dataframe tbody tr th:only-of-type {\n",
       "        vertical-align: middle;\n",
       "    }\n",
       "\n",
       "    .dataframe tbody tr th {\n",
       "        vertical-align: top;\n",
       "    }\n",
       "\n",
       "    .dataframe thead th {\n",
       "        text-align: right;\n",
       "    }\n",
       "</style>\n",
       "<table border=\"1\" class=\"dataframe\">\n",
       "  <thead>\n",
       "    <tr style=\"text-align: right;\">\n",
       "      <th></th>\n",
       "      <th></th>\n",
       "      <th>weight</th>\n",
       "    </tr>\n",
       "    <tr>\n",
       "      <th>instanceId_userId</th>\n",
       "      <th>objectId</th>\n",
       "      <th></th>\n",
       "    </tr>\n",
       "  </thead>\n",
       "  <tbody>\n",
       "    <tr>\n",
       "      <th rowspan=\"2\" valign=\"top\">316</th>\n",
       "      <th>17997084</th>\n",
       "      <td>-0.113432</td>\n",
       "    </tr>\n",
       "    <tr>\n",
       "      <th>37758420</th>\n",
       "      <td>-0.152185</td>\n",
       "    </tr>\n",
       "    <tr>\n",
       "      <th rowspan=\"3\" valign=\"top\">631</th>\n",
       "      <th>15478935</th>\n",
       "      <td>-0.095935</td>\n",
       "    </tr>\n",
       "    <tr>\n",
       "      <th>30513650</th>\n",
       "      <td>-0.157942</td>\n",
       "    </tr>\n",
       "    <tr>\n",
       "      <th>38118098</th>\n",
       "      <td>-0.189955</td>\n",
       "    </tr>\n",
       "    <tr>\n",
       "      <th rowspan=\"4\" valign=\"top\">742</th>\n",
       "      <th>10672856</th>\n",
       "      <td>-0.090199</td>\n",
       "    </tr>\n",
       "    <tr>\n",
       "      <th>24302446</th>\n",
       "      <td>-0.186321</td>\n",
       "    </tr>\n",
       "    <tr>\n",
       "      <th>28816291</th>\n",
       "      <td>-0.260390</td>\n",
       "    </tr>\n",
       "    <tr>\n",
       "      <th>34685448</th>\n",
       "      <td>-0.099877</td>\n",
       "    </tr>\n",
       "    <tr>\n",
       "      <th>868</th>\n",
       "      <th>11640701</th>\n",
       "      <td>-0.107375</td>\n",
       "    </tr>\n",
       "  </tbody>\n",
       "</table>\n",
       "</div>"
      ],
      "text/plain": [
       "                              weight\n",
       "instanceId_userId objectId          \n",
       "316               17997084 -0.113432\n",
       "                  37758420 -0.152185\n",
       "631               15478935 -0.095935\n",
       "                  30513650 -0.157942\n",
       "                  38118098 -0.189955\n",
       "742               10672856 -0.090199\n",
       "                  24302446 -0.186321\n",
       "                  28816291 -0.260390\n",
       "                  34685448 -0.099877\n",
       "868               11640701 -0.107375"
      ]
     },
     "execution_count": 24,
     "metadata": {},
     "output_type": "execute_result"
    }
   ],
   "source": [
    "scores = test.join(\\\n",
    "    test_texts[['objectId','weight']].set_index('objectId'), \\\n",
    "    how = 'inner', \\\n",
    "    on = 'objectId') \\\n",
    "    .groupby(['instanceId_userId','objectId']).min()\n",
    "scores.head(10)"
   ]
  },
  {
   "cell_type": "code",
   "execution_count": 25,
   "metadata": {},
   "outputs": [
    {
     "data": {
      "text/html": [
       "<div>\n",
       "<style scoped>\n",
       "    .dataframe tbody tr th:only-of-type {\n",
       "        vertical-align: middle;\n",
       "    }\n",
       "\n",
       "    .dataframe tbody tr th {\n",
       "        vertical-align: top;\n",
       "    }\n",
       "\n",
       "    .dataframe thead th {\n",
       "        text-align: right;\n",
       "    }\n",
       "</style>\n",
       "<table border=\"1\" class=\"dataframe\">\n",
       "  <thead>\n",
       "    <tr style=\"text-align: right;\">\n",
       "      <th></th>\n",
       "      <th>instanceId_userId</th>\n",
       "      <th>objectId</th>\n",
       "      <th>weight</th>\n",
       "    </tr>\n",
       "  </thead>\n",
       "  <tbody>\n",
       "    <tr>\n",
       "      <th>0</th>\n",
       "      <td>316</td>\n",
       "      <td>37758420</td>\n",
       "      <td>-0.152185</td>\n",
       "    </tr>\n",
       "    <tr>\n",
       "      <th>1</th>\n",
       "      <td>316</td>\n",
       "      <td>17997084</td>\n",
       "      <td>-0.113432</td>\n",
       "    </tr>\n",
       "    <tr>\n",
       "      <th>2</th>\n",
       "      <td>631</td>\n",
       "      <td>38118098</td>\n",
       "      <td>-0.189955</td>\n",
       "    </tr>\n",
       "    <tr>\n",
       "      <th>3</th>\n",
       "      <td>631</td>\n",
       "      <td>30513650</td>\n",
       "      <td>-0.157942</td>\n",
       "    </tr>\n",
       "    <tr>\n",
       "      <th>4</th>\n",
       "      <td>631</td>\n",
       "      <td>15478935</td>\n",
       "      <td>-0.095935</td>\n",
       "    </tr>\n",
       "    <tr>\n",
       "      <th>5</th>\n",
       "      <td>742</td>\n",
       "      <td>28816291</td>\n",
       "      <td>-0.260390</td>\n",
       "    </tr>\n",
       "    <tr>\n",
       "      <th>6</th>\n",
       "      <td>742</td>\n",
       "      <td>24302446</td>\n",
       "      <td>-0.186321</td>\n",
       "    </tr>\n",
       "    <tr>\n",
       "      <th>7</th>\n",
       "      <td>742</td>\n",
       "      <td>34685448</td>\n",
       "      <td>-0.099877</td>\n",
       "    </tr>\n",
       "    <tr>\n",
       "      <th>8</th>\n",
       "      <td>742</td>\n",
       "      <td>10672856</td>\n",
       "      <td>-0.090199</td>\n",
       "    </tr>\n",
       "    <tr>\n",
       "      <th>9</th>\n",
       "      <td>868</td>\n",
       "      <td>29193052</td>\n",
       "      <td>-0.230884</td>\n",
       "    </tr>\n",
       "  </tbody>\n",
       "</table>\n",
       "</div>"
      ],
      "text/plain": [
       "   instanceId_userId  objectId    weight\n",
       "0                316  37758420 -0.152185\n",
       "1                316  17997084 -0.113432\n",
       "2                631  38118098 -0.189955\n",
       "3                631  30513650 -0.157942\n",
       "4                631  15478935 -0.095935\n",
       "5                742  28816291 -0.260390\n",
       "6                742  24302446 -0.186321\n",
       "7                742  34685448 -0.099877\n",
       "8                742  10672856 -0.090199\n",
       "9                868  29193052 -0.230884"
      ]
     },
     "execution_count": 25,
     "metadata": {},
     "output_type": "execute_result"
    }
   ],
   "source": [
    "result = scores.sort_values(by=['instanceId_userId', 'weight']).reset_index()\n",
    "result.head(10)"
   ]
  },
  {
   "cell_type": "code",
   "execution_count": 26,
   "metadata": {},
   "outputs": [
    {
     "data": {
      "text/plain": [
       "instanceId_userId\n",
       "316                                  [37758420, 17997084]\n",
       "631                        [38118098, 30513650, 15478935]\n",
       "742              [28816291, 24302446, 34685448, 10672856]\n",
       "868     [29193052, 30143153, 29650308, 30882080, 22115...\n",
       "979                                   [37950972, 7996257]\n",
       "1006                                 [37520199, 34577503]\n",
       "1276                       [22812401, 36856262, 31000576]\n",
       "1444                                 [36806487, 20963755]\n",
       "1483                                 [38036543, 34991228]\n",
       "1618                         [26764305, 546086, 35981492]\n",
       "Name: objectId, dtype: object"
      ]
     },
     "execution_count": 26,
     "metadata": {},
     "output_type": "execute_result"
    }
   ],
   "source": [
    "submit = result.groupby(\"instanceId_userId\")['objectId'].apply(list)\n",
    "submit.head(10)"
   ]
  },
  {
   "cell_type": "code",
   "execution_count": 27,
   "metadata": {},
   "outputs": [],
   "source": [
    "\n",
    "submit.to_csv('textSubmit.csv.gz',  header = False,  compression='gzip')\n"
   ]
  }
 ],
 "metadata": {
  "kernelspec": {
   "display_name": "Python 3",
   "language": "python",
   "name": "python3"
  },
  "language_info": {
   "codemirror_mode": {
    "name": "ipython",
    "version": 3
   },
   "file_extension": ".py",
   "mimetype": "text/x-python",
   "name": "python",
   "nbconvert_exporter": "python",
   "pygments_lexer": "ipython3",
   "version": "3.6.4"
  }
 },
 "nbformat": 4,
 "nbformat_minor": 1
}
